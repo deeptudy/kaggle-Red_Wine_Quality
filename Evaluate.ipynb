{
 "cells": [
  {
   "cell_type": "code",
   "execution_count": 6,
   "metadata": {},
   "outputs": [],
   "source": [
    "import numpy as np\n",
    "import pandas as pd\n",
    "import torch\n",
    "import torch.nn.functional as F\n",
    "import torchmetrics\n",
    "\n",
    "from nn import ANN\n",
    "from utils import KFoldCV"
   ]
  },
  {
   "cell_type": "code",
   "execution_count": 7,
   "metadata": {},
   "outputs": [],
   "source": [
    "X_df = pd.read_csv('./data/trn_X.csv',index_col=0)\n",
    "y_df = pd.read_csv('./data/trn_y.csv',index_col=0)\n",
    "\n",
    "X, y = torch.tensor(X_df.to_numpy(dtype=np.float32)), torch.tensor(y_df.to_numpy(dtype=np.float32))"
   ]
  },
  {
   "cell_type": "code",
   "execution_count": 8,
   "metadata": {},
   "outputs": [],
   "source": [
    "model_kwargs = {\n",
    "  'input_dim': X.shape[-1],\n",
    "  'hidden_dim': [128,128],\n",
    "  'use_dropout': True,\n",
    "  'drop_ratio': 0.3,\n",
    "  'activation': 'relu',\n",
    "}\n",
    "\n",
    "dl_kwargs = {\n",
    "  'batch_size': 36,\n",
    "  'shuffle': True,\n",
    "}\n",
    "\n",
    "optim_kwargs = {\n",
    "  'lr': 1.0,\n",
    "}\n",
    "\n",
    "device = 'cpu'\n",
    "\n",
    "cv = KFoldCV(X, y, ANN, model_kwargs=model_kwargs,\n",
    "            epochs=300,\n",
    "            criterion=F.mse_loss,\n",
    "            Optimizer=torch.optim.Adam,\n",
    "            optim_kwargs=optim_kwargs,\n",
    "            trn_dl_kwargs=dl_kwargs, val_dl_kwargs=dl_kwargs,\n",
    "            metric=torchmetrics.MeanSquaredError(squared=False).to(device),\n",
    "            device=device)\n"
   ]
  },
  {
   "cell_type": "code",
   "execution_count": 9,
   "metadata": {},
   "outputs": [
    {
     "name": "stdout",
     "output_type": "stream",
     "text": [
      "ANN(\n",
      "  (Identity): Identity()\n",
      "  (dropout): Dropout(p=0.3, inplace=False)\n",
      "  (activation): ReLU()\n",
      "  (module_list): ModuleList(\n",
      "    (0): Linear(in_features=11, out_features=128, bias=True)\n",
      "    (1): Dropout(p=0.3, inplace=False)\n",
      "    (2): ReLU()\n",
      "    (3): Linear(in_features=128, out_features=128, bias=True)\n",
      "    (4): Dropout(p=0.3, inplace=False)\n",
      "    (5): ReLU()\n",
      "    (6): Linear(in_features=128, out_features=1, bias=True)\n",
      "  )\n",
      ")\n"
     ]
    },
    {
     "data": {
      "application/vnd.jupyter.widget-view+json": {
       "model_id": "db0f4f3c4c0f4164b3e21ee939e5596f",
       "version_major": 2,
       "version_minor": 0
      },
      "text/plain": [
       "  0%|          | 0/300 [00:00<?, ?it/s]"
      ]
     },
     "metadata": {},
     "output_type": "display_data"
    },
    {
     "data": {
      "application/vnd.jupyter.widget-view+json": {
       "model_id": "5f396f697e9048759ad272d6f7382f8e",
       "version_major": 2,
       "version_minor": 0
      },
      "text/plain": [
       "  0%|          | 0/300 [00:00<?, ?it/s]"
      ]
     },
     "metadata": {},
     "output_type": "display_data"
    },
    {
     "data": {
      "application/vnd.jupyter.widget-view+json": {
       "model_id": "c5121acf92f5450fb1802794468dd528",
       "version_major": 2,
       "version_minor": 0
      },
      "text/plain": [
       "  0%|          | 0/300 [00:00<?, ?it/s]"
      ]
     },
     "metadata": {},
     "output_type": "display_data"
    },
    {
     "data": {
      "application/vnd.jupyter.widget-view+json": {
       "model_id": "4d24b36d0a474d5ca8df7431f8e6d3c2",
       "version_major": 2,
       "version_minor": 0
      },
      "text/plain": [
       "  0%|          | 0/300 [00:00<?, ?it/s]"
      ]
     },
     "metadata": {},
     "output_type": "display_data"
    },
    {
     "data": {
      "application/vnd.jupyter.widget-view+json": {
       "model_id": "a299aa1f2d6f4f06b50081aabcad626a",
       "version_major": 2,
       "version_minor": 0
      },
      "text/plain": [
       "  0%|          | 0/300 [00:00<?, ?it/s]"
      ]
     },
     "metadata": {},
     "output_type": "display_data"
    },
    {
     "data": {
      "text/html": [
       "<div>\n",
       "<style scoped>\n",
       "    .dataframe tbody tr th:only-of-type {\n",
       "        vertical-align: middle;\n",
       "    }\n",
       "\n",
       "    .dataframe tbody tr th {\n",
       "        vertical-align: top;\n",
       "    }\n",
       "\n",
       "    .dataframe thead th {\n",
       "        text-align: right;\n",
       "    }\n",
       "</style>\n",
       "<table border=\"1\" class=\"dataframe\">\n",
       "  <thead>\n",
       "    <tr style=\"text-align: right;\">\n",
       "      <th></th>\n",
       "      <th>trn_rmse</th>\n",
       "      <th>val_rmse</th>\n",
       "    </tr>\n",
       "  </thead>\n",
       "  <tbody>\n",
       "    <tr>\n",
       "      <th>0</th>\n",
       "      <td>0.791530</td>\n",
       "      <td>0.837183</td>\n",
       "    </tr>\n",
       "    <tr>\n",
       "      <th>1</th>\n",
       "      <td>0.831213</td>\n",
       "      <td>0.789033</td>\n",
       "    </tr>\n",
       "    <tr>\n",
       "      <th>2</th>\n",
       "      <td>0.842078</td>\n",
       "      <td>0.769021</td>\n",
       "    </tr>\n",
       "    <tr>\n",
       "      <th>3</th>\n",
       "      <td>1.008071</td>\n",
       "      <td>0.793064</td>\n",
       "    </tr>\n",
       "    <tr>\n",
       "      <th>4</th>\n",
       "      <td>0.788871</td>\n",
       "      <td>0.847337</td>\n",
       "    </tr>\n",
       "    <tr>\n",
       "      <th>mean</th>\n",
       "      <td>0.852352</td>\n",
       "      <td>0.807128</td>\n",
       "    </tr>\n",
       "    <tr>\n",
       "      <th>std</th>\n",
       "      <td>0.090180</td>\n",
       "      <td>0.033532</td>\n",
       "    </tr>\n",
       "  </tbody>\n",
       "</table>\n",
       "</div>"
      ],
      "text/plain": [
       "      trn_rmse  val_rmse\n",
       "0     0.791530  0.837183\n",
       "1     0.831213  0.789033\n",
       "2     0.842078  0.769021\n",
       "3     1.008071  0.793064\n",
       "4     0.788871  0.847337\n",
       "mean  0.852352  0.807128\n",
       "std   0.090180  0.033532"
      ]
     },
     "execution_count": 9,
     "metadata": {},
     "output_type": "execute_result"
    }
   ],
   "source": [
    "res = cv.run()\n",
    "res = pd.concat([res, res.apply(['mean', 'std'])])\n",
    "\n",
    "res"
   ]
  },
  {
   "cell_type": "code",
   "execution_count": null,
   "metadata": {},
   "outputs": [],
   "source": []
  }
 ],
 "metadata": {
  "kernelspec": {
   "display_name": "pytorch",
   "language": "python",
   "name": "python3"
  },
  "language_info": {
   "codemirror_mode": {
    "name": "ipython",
    "version": 3
   },
   "file_extension": ".py",
   "mimetype": "text/x-python",
   "name": "python",
   "nbconvert_exporter": "python",
   "pygments_lexer": "ipython3",
   "version": "3.11.3"
  }
 },
 "nbformat": 4,
 "nbformat_minor": 2
}
